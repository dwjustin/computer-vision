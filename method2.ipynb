{
 "cells": [
  {
   "cell_type": "markdown",
   "id": "d122477c",
   "metadata": {},
   "source": [
    "Since using imshow function from cv2 was not working properly, I imported pyplot from matplotlib in order to check the image. Rest of the methods are exclusively from libraries numpy and cv2. "
   ]
  },
  {
   "cell_type": "code",
   "execution_count": 1,
   "id": "425d0821",
   "metadata": {},
   "outputs": [],
   "source": [
    "import numpy as np\n",
    "import cv2\n",
    "\n",
    "%matplotlib inline\n",
    "from matplotlib import pyplot as plt"
   ]
  },
  {
   "cell_type": "markdown",
   "id": "619d2f1b",
   "metadata": {},
   "source": [
    "The following preprocessing is identical to method 1. <br>\n",
    "Read and grayscale both images upsampled.png and HR.png. <br>\n",
    "Resize the __image_gt__ and make __image_l__.<br> \n",
    "Implement functions mse and PSNR. <br>\n",
    "Compute PSNR for __image_h__. <br>"
   ]
  },
  {
   "cell_type": "code",
   "execution_count": 2,
   "id": "7df2af06",
   "metadata": {},
   "outputs": [
    {
     "name": "stdout",
     "output_type": "stream",
     "text": [
      "18.00910086146031\n"
     ]
    }
   ],
   "source": [
    "image_h= cv2.imread('upsampled.png')\n",
    "image_h=cv2.cvtColor(image_h,cv2.COLOR_BGR2GRAY).astype(np.float32)\n",
    "\n",
    "image_gt=cv2.imread('HR.png')\n",
    "image_gt=cv2.cvtColor(image_gt,cv2.COLOR_BGR2GRAY).astype(np.float32)\n",
    "\n",
    "height, width=image_h.shape\n",
    "image_l=cv2.resize(image_gt,(height//4,width//4))\n",
    "\n",
    "def mse(img):\n",
    "    MSE=np.sum(np.square(image_gt-img))/(height*width)\n",
    "    return MSE\n",
    "def PSNR(img):\n",
    "    psnr=10*np.log10(255*255/mse(img))\n",
    "    return psnr\n",
    "print(PSNR(image_h))"
   ]
  },
  {
   "cell_type": "markdown",
   "id": "871e5509",
   "metadata": {},
   "source": [
    "Compute the gradient and Laplacian of __image_l__. Then, show the Laplacian of the image. "
   ]
  },
  {
   "cell_type": "code",
   "execution_count": 7,
   "id": "e4bb76ae",
   "metadata": {},
   "outputs": [],
   "source": [
    "gamma=6\n",
    "grad_image_l=np.linalg.norm(np.abs(cv2.Sobel(image_h,-1,1,0))+np.abs(cv2.Sobel(image_h,-1,0,1)))+1e-10\n",
    "laplacian_image_l=cv2.Laplacian(image_h,-1)"
   ]
  },
  {
   "cell_type": "markdown",
   "id": "0b55c439",
   "metadata": {},
   "source": [
    "Subtract the gradient of __image_l__ and Laplacian, and obtain sharp edge image by clipping. "
   ]
  },
  {
   "cell_type": "code",
   "execution_count": 14,
   "id": "d7aa51c2",
   "metadata": {},
   "outputs": [],
   "source": [
    "sharp_edge=grad_image_l-np.linalg.norm(laplacian_image_l)\n",
    "sharp_edge=np.clip(sharp_edge,a_min=0, a_max=1.0)\n",
    "laplacian_image_T=gamma*laplacian_image_l*(sharp_edge/grad_image_l)"
   ]
  },
  {
   "cell_type": "markdown",
   "id": "2395635e",
   "metadata": {},
   "source": [
    "Gradient Descent with prior"
   ]
  },
  {
   "cell_type": "code",
   "execution_count": 9,
   "id": "2b0da454",
   "metadata": {},
   "outputs": [
    {
     "name": "stdout",
     "output_type": "stream",
     "text": [
      "20.711061950730247\n"
     ]
    }
   ],
   "source": [
    "beta=0.0001\n",
    "MAX_ITERATION=1000\n",
    "lr=0.1\n",
    "\n",
    "for i in range(MAX_ITERATION):\n",
    "    image_T_=cv2.Laplacian(image_h,-1)\n",
    "    image_d=cv2.resize(image_h,(height//4, width//4))\n",
    "    grad=cv2.resize(image_d-image_l,(height,width))-beta*(image_T_-laplacian_image_T)\n",
    "    image_h=image_h-np.dot(lr,grad)\n",
    "#     loss=np.square(image_l-image_d)+beta*(np.square(grad-))\n",
    "    \n",
    "cv2.imwrite('super-resolution-method2.png',image_h)\n",
    "print(PSNR(image_h))"
   ]
  }
 ],
 "metadata": {
  "kernelspec": {
   "display_name": "Python 3 (ipykernel)",
   "language": "python",
   "name": "python3"
  },
  "language_info": {
   "codemirror_mode": {
    "name": "ipython",
    "version": 3
   },
   "file_extension": ".py",
   "mimetype": "text/x-python",
   "name": "python",
   "nbconvert_exporter": "python",
   "pygments_lexer": "ipython3",
   "version": "3.10.1"
  }
 },
 "nbformat": 4,
 "nbformat_minor": 5
}
